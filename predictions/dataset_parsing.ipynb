{
  "cells": [
    {
      "cell_type": "code",
      "execution_count": 2,
      "metadata": {
        "id": "QxYVuuvi14kM"
      },
      "outputs": [],
      "source": [
        "import tensorflow as tf"
      ]
    },
    {
      "cell_type": "code",
      "execution_count": 3,
      "metadata": {
        "id": "1FL8o8k345GA"
      },
      "outputs": [],
      "source": [
        "import pandas as pd"
      ]
    },
    {
      "cell_type": "code",
      "execution_count": 4,
      "metadata": {
        "id": "u2cfGDx0AQNc"
      },
      "outputs": [],
      "source": [
        "DATA_FIELDNAMES = [\"dish_id\", \"calories\", \"mass\", \"fat\", \"carb\", \"protein\"]"
      ]
    },
    {
      "cell_type": "code",
      "execution_count": 5,
      "metadata": {
        "id": "kWdjvMi2D-h2"
      },
      "outputs": [],
      "source": [
        "import requests\n",
        "\n",
        "cafe1 = requests.get(\"https://storage.googleapis.com/nutrition5k_dataset/nutrition5k_dataset/metadata/dish_metadata_cafe1.csv\").text"
      ]
    },
    {
      "cell_type": "code",
      "execution_count": 6,
      "metadata": {
        "id": "OVXcFqmzEb7a"
      },
      "outputs": [],
      "source": [
        "cafe2 = requests.get(\"https://storage.googleapis.com/nutrition5k_dataset/nutrition5k_dataset/metadata/dish_metadata_cafe2.csv\").text"
      ]
    },
    {
      "cell_type": "code",
      "execution_count": 7,
      "metadata": {
        "id": "wGAPXnSdUz8L"
      },
      "outputs": [],
      "source": [
        "cafe = cafe1 + '\\n' + cafe2"
      ]
    },
    {
      "cell_type": "code",
      "execution_count": 8,
      "metadata": {
        "id": "6o3y9ugAU3aO"
      },
      "outputs": [],
      "source": [
        "parsed_data = {}\n",
        "for line in cafe.split('\\n'):\n",
        "  data_values = line.strip().split(\",\")\n",
        "  parsed_data[data_values[0]] = data_values"
      ]
    },
    {
      "cell_type": "code",
      "execution_count": 9,
      "metadata": {
        "id": "28Q39Ef8VMNK"
      },
      "outputs": [],
      "source": [
        "train = requests.get(\"https://storage.googleapis.com/nutrition5k_dataset/nutrition5k_dataset/dish_ids/splits/rgb_train_ids.txt\").text.split(\"\\n\")[:-1]\n",
        "test = requests.get(\"https://storage.googleapis.com/nutrition5k_dataset/nutrition5k_dataset/dish_ids/splits/rgb_test_ids.txt\").text.split(\"\\n\")[:-1]"
      ]
    },
    {
      "cell_type": "code",
      "execution_count": 10,
      "metadata": {
        "colab": {
          "base_uri": "https://localhost:8080/"
        },
        "id": "On-LdV4oV5fH",
        "outputId": "4759ce49-2d9f-4911-8840-ef2b7718f1a5"
      },
      "outputs": [
        {
          "data": {
            "text/plain": [
              "(4059, 709, 5007, 5008, 4059)"
            ]
          },
          "execution_count": 10,
          "metadata": {},
          "output_type": "execute_result"
        }
      ],
      "source": [
        "len(train), len(test), len(parsed_data), len(cafe.split('\\n')), len(set(train))"
      ]
    },
    {
      "cell_type": "code",
      "execution_count": 18,
      "metadata": {
        "id": "xOosBkC1V4Z5"
      },
      "outputs": [
        {
          "name": "stdout",
          "output_type": "stream",
          "text": [
            "30\n",
            "60\n",
            "90\n",
            "120\n",
            "150\n",
            "180\n",
            "210\n",
            "240\n",
            "270\n",
            "300\n",
            "330\n",
            "360\n",
            "390\n",
            "420\n",
            "450\n",
            "480\n",
            "510\n",
            "540\n",
            "570\n",
            "600\n",
            "630\n",
            "660\n",
            "690\n",
            "720\n",
            "750\n",
            "780\n",
            "810\n",
            "840\n",
            "870\n",
            "900\n",
            "930\n",
            "960\n",
            "990\n",
            "1020\n",
            "1050\n",
            "1080\n",
            "1110\n",
            "1140\n",
            "1170\n",
            "1200\n",
            "1230\n",
            "1260\n",
            "1290\n",
            "1320\n",
            "1350\n",
            "1380\n",
            "1410\n",
            "1440\n",
            "1470\n",
            "1500\n",
            "1530\n",
            "1560\n",
            "1590\n",
            "1620\n",
            "1650\n",
            "1680\n",
            "1710\n",
            "1740\n",
            "1770\n",
            "1800\n",
            "1830\n",
            "1860\n",
            "1890\n",
            "1920\n",
            "1950\n",
            "1980\n",
            "2010\n",
            "2040\n",
            "2070\n",
            "2100\n",
            "2130\n",
            "2160\n",
            "2190\n",
            "2220\n",
            "2250\n",
            "2280\n",
            "2310\n",
            "2340\n",
            "2370\n",
            "2400\n",
            "2430\n",
            "2460\n",
            "2490\n",
            "2520\n",
            "2550\n",
            "2580\n",
            "2610\n",
            "2640\n",
            "2670\n",
            "2700\n",
            "2730\n",
            "2760\n",
            "2790\n",
            "2820\n",
            "2850\n",
            "2880\n",
            "2910\n",
            "2940\n",
            "2970\n",
            "3000\n",
            "3030\n",
            "3060\n",
            "3090\n",
            "3120\n",
            "3150\n",
            "3180\n",
            "3210\n",
            "3240\n",
            "3270\n",
            "3300\n",
            "3330\n",
            "3360\n",
            "3390\n",
            "3420\n",
            "3450\n",
            "3480\n",
            "3510\n",
            "3540\n",
            "3570\n",
            "3600\n",
            "3630\n",
            "3660\n",
            "3690\n",
            "3720\n",
            "3750\n",
            "3780\n",
            "3810\n",
            "3840\n",
            "3870\n",
            "3900\n"
          ]
        }
      ],
      "source": [
        "import urllib.request as urllib\n",
        "import numpy as np\n",
        "import cv2\n",
        "from skimage import io\n",
        "\n",
        "train_imgs = {}\n",
        "i = -1\n",
        "\n",
        "for dish in train[:-1]:\n",
        "  i += 1\n",
        "  for l in ['A', 'B', 'C', 'D']:\n",
        "    url = f'https://storage.googleapis.com/nutrition5k_dataset/nutrition5k_dataset/imagery/side_angles/{dish}/camera_{l}.h264'\n",
        "    read, pic = cv2.VideoCapture(url).read()\n",
        "    if read:\n",
        "      break\n",
        "  if read:\n",
        "    pic = cv2.resize(pic, (513, 513))\n",
        "    train_imgs[dish] = pic\n",
        "    if len(train_imgs) % 30 == 0:\n",
        "      print(len(train_imgs))\n",
        "      np.save(\"backup2.npy\", train_imgs)\n"
      ]
    },
    {
      "cell_type": "code",
      "execution_count": 16,
      "metadata": {
        "id": "A9iGdNMP23uf"
      },
      "outputs": [],
      "source": [
        "train_imgs = np.load(\"backup.npy\", allow_pickle=True).item()"
      ]
    },
    {
      "cell_type": "markdown",
      "metadata": {
        "id": "CrM6NDUZkh14"
      },
      "source": []
    },
    {
      "cell_type": "code",
      "execution_count": 17,
      "metadata": {
        "id": "RhABtxMre92I"
      },
      "outputs": [
        {
          "name": "stdout",
          "output_type": "stream",
          "text": [
            "30\n",
            "60\n",
            "90\n",
            "120\n",
            "150\n",
            "180\n",
            "210\n",
            "240\n",
            "270\n",
            "300\n",
            "330\n",
            "360\n",
            "390\n",
            "420\n",
            "450\n",
            "480\n",
            "510\n",
            "540\n",
            "570\n",
            "600\n",
            "630\n",
            "660\n"
          ]
        }
      ],
      "source": [
        "import urllib.request as urllib\n",
        "import numpy as np\n",
        "import cv2\n",
        "from skimage import io\n",
        "\n",
        "test_imgs = {}\n",
        "i = -1\n",
        "\n",
        "for dish in test[:-1]:\n",
        "  i += 1\n",
        "  for l in ['A', 'B', 'C', 'D']:\n",
        "    url = f'https://storage.googleapis.com/nutrition5k_dataset/nutrition5k_dataset/imagery/side_angles/{dish}/camera_{l}.h264'\n",
        "    read, pic = cv2.VideoCapture(url).read()\n",
        "    if read:\n",
        "      break\n",
        "  if read:\n",
        "    pic = cv2.resize(pic, (513, 513))\n",
        "    test_imgs[dish] = pic\n",
        "    if len(test_imgs) % 30 == 0:\n",
        "      print(len(test_imgs))\n",
        "      np.save(\"backup_test.npy\", test_imgs)\n"
      ]
    },
    {
      "cell_type": "code",
      "execution_count": null,
      "metadata": {
        "id": "Jn-4_vQx473e"
      },
      "outputs": [],
      "source": []
    }
  ],
  "metadata": {
    "colab": {
      "provenance": []
    },
    "kernelspec": {
      "display_name": "Python 3",
      "name": "python3"
    },
    "language_info": {
      "codemirror_mode": {
        "name": "ipython",
        "version": 3
      },
      "file_extension": ".py",
      "mimetype": "text/x-python",
      "name": "python",
      "nbconvert_exporter": "python",
      "pygments_lexer": "ipython3",
      "version": "3.9.7"
    }
  },
  "nbformat": 4,
  "nbformat_minor": 0
}
